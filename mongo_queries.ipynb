{
 "cells": [
  {
   "cell_type": "code",
   "execution_count": 25,
   "metadata": {},
   "outputs": [],
   "source": [
    "from pymongo import MongoClient"
   ]
  },
  {
   "cell_type": "code",
   "execution_count": 26,
   "metadata": {},
   "outputs": [],
   "source": [
    "# Connection URL\n",
    "connection_url = \"mongodb://localhost:27017/\"\n",
    "client = MongoClient(connection_url)"
   ]
  },
  {
   "cell_type": "code",
   "execution_count": 28,
   "metadata": {},
   "outputs": [],
   "source": [
    "db = client['tmdb_db']\n",
    "collection = db['movies']"
   ]
  },
  {
   "cell_type": "markdown",
   "metadata": {},
   "source": [
    "Notar que nuestra colección de películas guarda 3 tipos de objeto:\n",
    "* Película\n",
    "* Género\n",
    "* Actor"
   ]
  },
  {
   "cell_type": "code",
   "execution_count": 29,
   "metadata": {},
   "outputs": [
    {
     "data": {
      "text/plain": [
       "['actor', 'genre']"
      ]
     },
     "execution_count": 29,
     "metadata": {},
     "output_type": "execute_result"
    }
   ],
   "source": [
    "collection.distinct('type')"
   ]
  },
  {
   "cell_type": "code",
   "execution_count": 36,
   "metadata": {},
   "outputs": [
    {
     "name": "stdout",
     "output_type": "stream",
     "text": [
      "Ratings promedio por género:\n",
      "\n",
      "Genre: History - Average Rating: 7.81\n",
      "Genre: Documentary - Average Rating: 7.41\n",
      "Genre: Crime - Average Rating: 7.33\n",
      "Genre: War - Average Rating: 7.23\n",
      "Genre: Drama - Average Rating: 7.21\n",
      "Genre: Science Fiction - Average Rating: 7.13\n",
      "Genre: Adventure - Average Rating: 7.07\n",
      "Genre: Mystery - Average Rating: 7.06\n",
      "Genre: Comedy - Average Rating: 7.01\n",
      "Genre: Action - Average Rating: 6.90\n",
      "Genre: Romance - Average Rating: 6.67\n",
      "Genre: Thriller - Average Rating: 6.58\n",
      "Genre: Fantasy - Average Rating: 6.27\n",
      "Genre: Family - Average Rating: 6.15\n",
      "Genre: Horror - Average Rating: 6.10\n",
      "Genre: Animation - Average Rating: 6.04\n",
      "Genre: TV Movie - Average Rating: 5.78\n"
     ]
    }
   ],
   "source": [
    "pipeline = [\n",
    "    {\"$match\": {\"type\": {\"$exists\": False}}},  # Assuming 'type' does not exist in movie documents\n",
    "    \n",
    "    {\"$lookup\": {\n",
    "        \"from\": \"movies\",  # Assuming genres are in the same collection\n",
    "        \"localField\": \"genre_ids\",\n",
    "        \"foreignField\": \"id\",\n",
    "        \"as\": \"genre_details\"\n",
    "    }},\n",
    "    \n",
    "    {\"$unwind\": \"$genre_details\"},\n",
    "\n",
    "    {\"$match\": {\"genre_details.type\": \"genre\"}},  # Ensure only genre documents are used\n",
    "\n",
    "    {\"$unwind\": \"$genre_ids\"},\n",
    "    \n",
    "    {\"$match\": {\"$expr\": {\"$eq\": [\"$genre_ids\", \"$genre_details.id\"]}}},\n",
    "\n",
    "    {\"$group\": {\n",
    "        \"_id\": \"$genre_details.name\",\n",
    "        \"AverageRating\": {\"$avg\": \"$vote_average\"}\n",
    "    }},\n",
    "    \n",
    "    {\"$sort\": {\"AverageRating\": -1}}\n",
    "]\n",
    "\n",
    "average_ratings_by_genre = collection.aggregate(pipeline)\n",
    "print(\"Ratings promedio por género:\\n\")\n",
    "for genre in average_ratings_by_genre:\n",
    "    print(f\"Genre: {genre['_id']} - Average Rating: {genre['AverageRating']:.2f}\")\n",
    "\n"
   ]
  },
  {
   "cell_type": "code",
   "execution_count": 35,
   "metadata": {},
   "outputs": [
    {
     "name": "stdout",
     "output_type": "stream",
     "text": [
      "Las 5 películas más populares con sus actores y géneros:\n",
      "\n",
      "Title: Kingdom of the Planet of the Apes, Popularity: 3629.389\n",
      "Genres: Action, Adventure, Science Fiction\n",
      "Actors: Anastasia Miller, Andy McPhee, Benjamin Scott, Dichen Lachman, Dmitriy Miller, Eka Darville, Frances Berry, Freya Allan, Kaden Hartcher, Karin Konoval, Kevin Durand, Lydia Peckham, Markus Hamilton, Michael Spudic, Neil Sandilands, Nina Gallas, Nirish Bhat Surambadka, Olga Miller, Owen Teague, Peter Hayes, Peter Macon, Ras-Samuel Welda'abzgi, Samuel Falé, Sara Wiseman, Sheree da Costa, Souleymane Diasse, Travis Jeffery, Virginie Laverdure, William H. Macy\n",
      "------------------------------------------------------------\n",
      "Title: Godzilla x Kong: The New Empire, Popularity: 3148.883\n",
      "Genres: Action, Adventure, Science Fiction\n",
      "Actors: Alex Ferns, Anthony Brandon Wong, Brian Tyree Henry, Cassie Riley, Chantelle Jamieson, Chika Ikogwe, Dan Stevens, Fala Chen, Greg Hatton, Jamaliah Othman, Jordy Campbell, Kaylee Hottle, Kevin Copeland, Nick Lawler, Patrick Moroney, Rachel House, Rebecca Hall, Robert Clavero, Ron Smyck, Sophia Emberson-Bain, Tess Dobre, Tim Carroll, Vincent B. Gorce, Yeye Zhou\n",
      "------------------------------------------------------------\n",
      "Title: Civil War, Popularity: 2767.933\n",
      "Genres: Action, Drama, War\n",
      "Actors: Alexa Mansour, Brian Philpot, Cailee Spaeny, Dean Grimes, Edmund Donovan, Evan Lai, Greg Hill, James Yaegashi, Jared Shaw, Jefferson White, Jess Matney, Jesse Plemons, Jin Ha, Jojo T. Gibbs, Juani Feliz, Justin Garza, Justin James Boykin, Karl Glusman, Kirsten Dunst, Martha B. Knighton, Melissa Saint-Amand, Nelson Lee, Nick Offerman, Simeon Freeman, Sonoya Mizuno, Stephen McKinley Henderson, Tim James, Tywaun Tornes, Vince Pisani, Wagner Moura\n",
      "------------------------------------------------------------\n",
      "Title: The Fall Guy, Popularity: 1915.521\n",
      "Genres: Action, Comedy\n",
      "Actors: Aaron Taylor-Johnson, Adam Dunn, Alex Lee, Andrew Owen, Andy Ryan, Angela Nica Sullen, Ben Gerrard, Ben Knight, Beth Champion, Cassandra Sorrell, Charlotte Wood, Chris Matheson, Dan Reardon, Daniel Nelson, David Collins, Di Smith, Diego Retamales, Emily Blunt, Emily Havea, Georgia Nottage, Georgia Willett, Gregory J. Fryer, Hannah Waddingham, Heather Thomas, Ioane Sa'ula, Jack Doherty, Jason Momoa, Kalkidan China, Lawrence Ola, Lee Majors, Luisa Mariano, Madeleine Jones, Madeleine Wilson, Marky Lee Campbell, Martin Cohen, Matuse Paz, Megan O'Connell, Nathan Bates, Nathan Langworthy, Nova Onas, Robert McFarlane, Ryan Gosling, Scott Johnson, Semu Filipo, Shakriya Tarinyawat, Simon McLachlan, Stephanie Hsu, Tahlia Crinis, Teresa Palmer, Theodore Avery, Tim Franklin, Tony Lynch, Winston Duke, Yoji Tatsuta, Zara Michales\n",
      "------------------------------------------------------------\n",
      "Title: Furiosa: A Mad Max Saga, Popularity: 1193.177\n",
      "Genres: Action, Adventure, Science Fiction\n",
      "Actors: Adam Thompson, Adam Washbourne, Alex Time, Alyla Browne, Angus Sampson, Anna Adams, Anya Taylor-Joy, Ash Hodgkinson, Ben Smith-Petersen, Bryan Probets, CJ. Bloomfield, Charlee Fraser, Charlize Theron, Chong Wei Zhang, Chris Hemsworth, Chudier Gatwech, Clarence John Ryan, Cody Riley, Daniel Webber, Danny Lim, Darcy Bryce, David Barnett, David Collins, David Field, Dawn Klingberg, Dylan Adonis, Elsa Pataky, Florence Mezzara, George Shevtsov, Goran D. Kleut, Guy Spence, Harrison Norris, Hiroshi Kasuga, Hugh Keays-Byrne, Ian Roberts, Iota, Jacob Tomuri, James Corcoran, Jamie Cluff, Jayden Irving, Jesse Turner, John Howard, Jon Iles, Josh Helman, Josh Randall, Justice Jones, Kagga Jayson, Karl Van Moorsel, Kelli Bailey, Keza Ishimwe, Lachy Hulme, Lee Perry, Maleeka Gasbarri, Marcia Coronado, Mark Wales, Matt De Souza, Matthew Van Leeve, Matuse Paz, Nat Buchanan, Nathan Jones, Nellie Collins, Nick Annas, Nikos Andronicos, Ning Cyrus, Peter Sammak, Peter Stephens, Quaden Bayles, Rahel Romahn, Ranjeet Manjrekar, Richard Norton, Ripley Voeten, Robert Jones, Robert McFarlane, Sasa Vitanovic, Sean Millis, Sean Renfrey, Shakriya Tarinyawat, Shane Dundas, Shea Adams, Shivantha Wijesinha, Shyan Tonga, Spencer Connelly, Stephen Amadasun, Tige Sixel Miller, Tim Burns, Tim Rogers, Toby Fuller, Tom Burke, Xanthia Marinelli, Yeye Zhou\n",
      "------------------------------------------------------------\n"
     ]
    }
   ],
   "source": [
    "pipeline = [\n",
    "    # Match all movie documents\n",
    "    {\"$match\": {\n",
    "        \"type\": {\"$exists\": False}  # Ensure we're looking at movie documents\n",
    "    }},\n",
    "    \n",
    "    # Group by movie title and take the first document of each group\n",
    "    {\"$group\": {\n",
    "        \"_id\": \"$title\",\n",
    "        \"document\": {\"$first\": \"$$ROOT\"},  # Retain the first document encountered\n",
    "        \"maxPopularity\": {\"$max\": \"$popularity\"}  # Get max popularity for the title\n",
    "    }},\n",
    "    \n",
    "    # Sort by max popularity in descending order\n",
    "    {\"$sort\": {\"maxPopularity\": -1}},\n",
    "    \n",
    "    # Limit the results to the top 10 movies\n",
    "    {\"$limit\": 5},\n",
    "    \n",
    "    # Replace the root to output the whole document\n",
    "    {\"$replaceRoot\": {\"newRoot\": \"$document\"}},\n",
    "    \n",
    "    # Lookup genres\n",
    "    {\"$lookup\": {\n",
    "        \"from\": \"movies\",  # Assuming all data is in the same collection\n",
    "        \"localField\": \"genre_ids\",\n",
    "        \"foreignField\": \"id\",\n",
    "        \"as\": \"genre_details\"\n",
    "    }},\n",
    "    \n",
    "    # Lookup actors\n",
    "    {\"$lookup\": {\n",
    "        \"from\": \"movies\",\n",
    "        \"localField\": \"actor_ids\",\n",
    "        \"foreignField\": \"id\",\n",
    "        \"as\": \"actor_details\"\n",
    "    }},\n",
    "    \n",
    "    # Project the required fields\n",
    "    {\"$project\": {\n",
    "        \"title\": 1,\n",
    "        \"popularity\": 1,\n",
    "        \"genres\": \"$genre_details.name\",  # Extracting only the genre names\n",
    "        \"actors\": \"$actor_details.name\"  # Extracting only the actor names\n",
    "    }},\n",
    "    \n",
    "    # Add distinct genres and actors fields\n",
    "    {\"$addFields\": {\n",
    "        \"genres\": {\"$setUnion\": [\"$genres\", []]},  # Ensure genres are distinct\n",
    "        \"actors\": {\"$setUnion\": [\"$actors\", []]}  # Ensure actors are distinct\n",
    "    }}\n",
    "]\n",
    "\n",
    "# Execute the aggregation pipeline\n",
    "top_movies = collection.aggregate(pipeline)\n",
    "\n",
    "# Print the results\n",
    "print(\"Las 5 películas más populares con sus actores y géneros:\\n\")\n",
    "for movie in top_movies:\n",
    "    print(f\"Title: {movie['title']}, Popularity: {movie['popularity']}\")\n",
    "    print(f\"Genres: {', '.join(movie['genres'])}\")\n",
    "    print(f\"Actors: {', '.join(movie['actors'])}\")\n",
    "    print(\"-\" * 60)"
   ]
  },
  {
   "cell_type": "code",
   "execution_count": 15,
   "metadata": {},
   "outputs": [
    {
     "name": "stdout",
     "output_type": "stream",
     "text": [
      "Production Company: Mattel, Average Revenue: 1445638421.0\n",
      "Production Company: LuckyChap Entertainment, Average Revenue: 1445638421.0\n",
      "Production Company: NB/GG Pictures, Average Revenue: 1445638421.0\n",
      "Production Company: Heyday Films, Average Revenue: 1084415563.0\n",
      "Production Company: Joint Effort, Average Revenue: 1078958629.0\n",
      "Production Company: Bron Studios, Average Revenue: 1078958629.0\n",
      "Production Company: Danjaq, Average Revenue: 880674609.0\n",
      "Production Company: B24, Average Revenue: 880674609.0\n",
      "Production Company: EON Productions, Average Revenue: 880674609.0\n",
      "Production Company: Atlas Entertainment, Average Revenue: 872874784.0666667\n"
     ]
    }
   ],
   "source": [
    "pipeline = [\n",
    "    {\"$unwind\": \"$production_companies\"},\n",
    "    {\"$group\": {\n",
    "        \"_id\": \"$production_companies.name\",\n",
    "        \"average_revenue\": {\"$avg\": \"$revenue\"}\n",
    "    }},\n",
    "    {\"$sort\": {\"average_revenue\": -1}},\n",
    "    {\"$limit\": 10},\n",
    "    {\"$project\": {\n",
    "        \"production_company\": \"$_id\",\n",
    "        \"average_revenue\": 1\n",
    "    }}\n",
    "]\n",
    "\n",
    "top_10_companies_by_revenue = db.movies.aggregate(pipeline)\n",
    "\n",
    "for company in top_10_companies_by_revenue:\n",
    "    print(f\"Production Company: {company['production_company']}, Average Revenue: {company['average_revenue']}\")\n"
   ]
  },
  {
   "cell_type": "code",
   "execution_count": 39,
   "metadata": {},
   "outputs": [
    {
     "name": "stdout",
     "output_type": "stream",
     "text": [
      "Genre: Adventure, Average Budget: 124910833.33333333\n",
      "Genre: Science Fiction, Average Budget: 103486378.73754153\n",
      "Genre: Action, Average Budget: 95736386.76844783\n",
      "Genre: Comedy, Average Budget: 76793814.43298969\n",
      "Genre: Crime, Average Budget: 75821621.62162162\n",
      "Genre: Fantasy, Average Budget: 73901041.66666667\n",
      "Genre: Family, Average Budget: 57166666.666666664\n",
      "Genre: History, Average Budget: 53954545.45454545\n",
      "Genre: Thriller, Average Budget: 53038495.57522124\n",
      "Genre: Animation, Average Budget: 49000000.0\n",
      "Genre: War, Average Budget: 45000000.0\n",
      "Genre: Drama, Average Budget: 44871410.88700565\n",
      "Genre: Mystery, Average Budget: 33890376.29113924\n",
      "Genre: Horror, Average Budget: 16478350.515463918\n",
      "Genre: Romance, Average Budget: 15714285.714285715\n",
      "Genre: Documentary, Average Budget: 0.0\n",
      "Genre: TV Movie, Average Budget: 0.0\n"
     ]
    }
   ],
   "source": [
    "pipeline = [\n",
    "    {\"$unwind\": \"$genres\"},\n",
    "    {\"$group\": {\n",
    "        \"_id\": \"$genres.name\",\n",
    "        \"average_budget\": {\"$avg\": \"$budget\"}\n",
    "    }},\n",
    "    {\"$sort\": {\"average_budget\": -1}}\n",
    "]\n",
    "average_budget_by_genre = db.movies.aggregate(pipeline)\n",
    "for genre in average_budget_by_genre:\n",
    "    print(f\"Genre: {genre['_id']}, Average Budget: {genre['average_budget']}\")\n"
   ]
  },
  {
   "cell_type": "code",
   "execution_count": 17,
   "metadata": {},
   "outputs": [],
   "source": [
    "# Close the connection to MongoDB\n",
    "client.close()"
   ]
  }
 ],
 "metadata": {
  "kernelspec": {
   "display_name": "base",
   "language": "python",
   "name": "python3"
  },
  "language_info": {
   "codemirror_mode": {
    "name": "ipython",
    "version": 3
   },
   "file_extension": ".py",
   "mimetype": "text/x-python",
   "name": "python",
   "nbconvert_exporter": "python",
   "pygments_lexer": "ipython3",
   "version": "3.11.5"
  },
  "orig_nbformat": 4
 },
 "nbformat": 4,
 "nbformat_minor": 2
}
